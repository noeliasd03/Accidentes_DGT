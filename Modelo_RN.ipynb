{
  "nbformat": 4,
  "nbformat_minor": 0,
  "metadata": {
    "colab": {
      "provenance": []
    },
    "kernelspec": {
      "name": "python3",
      "display_name": "Python 3"
    },
    "language_info": {
      "name": "python"
    }
  },
  "cells": [
    {
      "cell_type": "markdown",
      "source": [
        "# 1. Importar librerías  \n",
        "En esta sección importamos todas las dependencias necesarias para manipulación de datos, visualización, selección de características, reducción de dimensionalidad y modelado."
      ],
      "metadata": {
        "id": "hzUXpffEuwKT"
      }
    },
    {
      "cell_type": "code",
      "source": [
        "import numpy as np\n",
        "import pandas as pd\n",
        "import torch\n",
        "import torch.nn as nn\n",
        "from torch.utils.data import DataLoader, TensorDataset\n",
        "from sklearn.preprocessing import MinMaxScaler\n",
        "import matplotlib.pyplot as plt\n",
        "import torch\n",
        "import torch.nn as nn\n",
        "from torch.utils.data import DataLoader, TensorDataset\n",
        "from sklearn.preprocessing import MinMaxScaler\n",
        "import matplotlib.pyplot as plt\n",
        "from sklearn.model_selection import train_test_split\n",
        "from sklearn.metrics import mean_squared_error, mean_absolute_error, r2_score"
      ],
      "metadata": {
        "id": "dCGFwQv78ANh"
      },
      "execution_count": null,
      "outputs": []
    },
    {
      "cell_type": "markdown",
      "source": [
        "# 2. Carga de datos  \n",
        "Leemos el fichero CSV con los datos de accidentes de tráfico y mostramos un resumen inicial de la tabla."
      ],
      "metadata": {
        "id": "AzoD0dxG_MJA"
      }
    },
    {
      "cell_type": "code",
      "source": [
        "df = pd.read_parquet('/content/accidentes_trafico_final.parquet')"
      ],
      "metadata": {
        "id": "EHVVgrNuH6uX"
      },
      "execution_count": null,
      "outputs": []
    },
    {
      "cell_type": "code",
      "source": [
        "df.info()"
      ],
      "metadata": {
        "colab": {
          "base_uri": "https://localhost:8080/"
        },
        "id": "kKb5SBpgJbDG",
        "outputId": "4165d4f2-fd20-4ba5-d4f9-da33e535c75b"
      },
      "execution_count": null,
      "outputs": [
        {
          "output_type": "stream",
          "name": "stdout",
          "text": [
            "<class 'pandas.core.frame.DataFrame'>\n",
            "RangeIndex: 97916 entries, 0 to 97915\n",
            "Data columns (total 77 columns):\n",
            " #   Column                    Non-Null Count  Dtype  \n",
            "---  ------                    --------------  -----  \n",
            " 0   ID_ACCIDENTE              97916 non-null  int64  \n",
            " 1   ANYO                      97916 non-null  int64  \n",
            " 2   MES                       97916 non-null  int64  \n",
            " 3   DIA_SEMANA                97916 non-null  int64  \n",
            " 4   HORA                      97916 non-null  int64  \n",
            " 5   COD_PROVINCIA             97916 non-null  int64  \n",
            " 6   COD_MUNICIPIO             97916 non-null  int64  \n",
            " 7   ISLA                      5207 non-null   float64\n",
            " 8   ZONA                      97916 non-null  int64  \n",
            " 9   ZONA_AGRUPADA             97916 non-null  int64  \n",
            " 10  CARRETERA                 97916 non-null  object \n",
            " 11  KM                        50944 non-null  float64\n",
            " 12  SENTIDO_1F                97916 non-null  int64  \n",
            " 13  TITULARIDAD_VIA           97916 non-null  int64  \n",
            " 14  TIPO_VIA                  97916 non-null  int64  \n",
            " 15  TIPO_ACCIDENTE            97916 non-null  int64  \n",
            " 16  TOTAL_MU24H               97916 non-null  int64  \n",
            " 17  TOTAL_HG24H               97916 non-null  int64  \n",
            " 18  TOTAL_HL24H               97916 non-null  int64  \n",
            " 19  TOTAL_VICTIMAS_24H        97916 non-null  int64  \n",
            " 20  TOTAL_MU30DF              97916 non-null  int64  \n",
            " 21  TOTAL_HG30DF              97916 non-null  int64  \n",
            " 22  TOTAL_HL30DF              97916 non-null  int64  \n",
            " 23  TOTAL_VICTIMAS_30DF       97916 non-null  int64  \n",
            " 24  TOTAL_VEHICULOS           97916 non-null  int64  \n",
            " 25  TOT_PEAT_MU24H            97916 non-null  int64  \n",
            " 26  TOT_BICI_MU24H            97916 non-null  int64  \n",
            " 27  TOT_CICLO_MU24H           97916 non-null  int64  \n",
            " 28  TOT_MOTO_MU24H            97916 non-null  int64  \n",
            " 29  TOT_TUR_MU24H             97916 non-null  int64  \n",
            " 30  TOT_FURG_MU24H            97916 non-null  int64  \n",
            " 31  TOT_CAM_MENOS3500_MU24H   97916 non-null  int64  \n",
            " 32  TOT_CAM_MAS3500_MU24H     97916 non-null  int64  \n",
            " 33  TOT_BUS_MU24H             97916 non-null  int64  \n",
            " 34  TOT_OTRO_MU24H            97916 non-null  int64  \n",
            " 35  TOT_SINESPECIF_MU24H      97916 non-null  int64  \n",
            " 36  TOT_PEAT_MU30DF           97916 non-null  int64  \n",
            " 37  TOT_BICI_MU30DF           97916 non-null  int64  \n",
            " 38  TOT_CICLO_MU30DF          97916 non-null  int64  \n",
            " 39  TOT_MOTO_MU30DF           97916 non-null  int64  \n",
            " 40  TOT_TUR_MU30DF            97916 non-null  int64  \n",
            " 41  TOT_FURG_MU30DF           97916 non-null  int64  \n",
            " 42  TOT_CAM_MENOS3500_MU30DF  97916 non-null  int64  \n",
            " 43  TOT_CAM_MAS3500_MU30DF    97916 non-null  int64  \n",
            " 44  TOT_BUS_MU30DF            97916 non-null  int64  \n",
            " 45  TOT_VMP_MU30DF            97916 non-null  int64  \n",
            " 46  TOT_OTRO_MU30DF           97916 non-null  int64  \n",
            " 47  TOT_SINESPECIF_MU30DF     97916 non-null  int64  \n",
            " 48  NUDO                      97916 non-null  int64  \n",
            " 49  NUDO_INFO                 37709 non-null  float64\n",
            " 50  CARRETERA_CRUCE           2668 non-null   object \n",
            " 51  PRIORI_NORMA              97916 non-null  int64  \n",
            " 52  PRIORI_AGENTE             97916 non-null  int64  \n",
            " 53  PRIORI_SEMAFORO           97916 non-null  int64  \n",
            " 54  PRIORI_VERT_STOP          97916 non-null  int64  \n",
            " 55  PRIORI_VERT_CEDA          97916 non-null  int64  \n",
            " 56  PRIORI_HORIZ_STOP         97916 non-null  int64  \n",
            " 57  PRIORI_HORIZ_CEDA         97916 non-null  int64  \n",
            " 58  PRIORI_MARCAS             97916 non-null  int64  \n",
            " 59  PRIORI_PEA_NO_ELEV        97916 non-null  int64  \n",
            " 60  PRIORI_PEA_ELEV           97916 non-null  int64  \n",
            " 61  PRIORI_MARCA_CICLOS       97916 non-null  int64  \n",
            " 62  PRIORI_CIRCUNSTANCIAL     97916 non-null  int64  \n",
            " 63  PRIORI_OTRA               97916 non-null  int64  \n",
            " 64  CONDICION_NIVEL_CIRCULA   97916 non-null  int64  \n",
            " 65  CONDICION_FIRME           97916 non-null  int64  \n",
            " 66  CONDICION_ILUMINACION     97916 non-null  int64  \n",
            " 67  CONDICION_METEO           97916 non-null  int64  \n",
            " 68  CONDICION_NIEBLA          7780 non-null   float64\n",
            " 69  CONDICION_VIENTO          263 non-null    float64\n",
            " 70  VISIB_RESTRINGIDA_POR     97916 non-null  int64  \n",
            " 71  ACERA                     97916 non-null  int64  \n",
            " 72  TRAZADO_PLANTA            97916 non-null  int64  \n",
            " 73  factor_dia                97916 non-null  float64\n",
            " 74  factor_hora               97916 non-null  float64\n",
            " 75  trafico_ligero_estimado   97916 non-null  float64\n",
            " 76  trafico_pesado_estimado   97916 non-null  float64\n",
            "dtypes: float64(9), int64(66), object(2)\n",
            "memory usage: 57.5+ MB\n"
          ]
        }
      ]
    },
    {
      "cell_type": "markdown",
      "source": [
        "# 3. Definición de la variable objetivo  \n",
        "Creamos `NUM_ACCIDENTE_MES` y agrupamos por provincia y mes"
      ],
      "metadata": {
        "id": "MY3HRL-K_ZO6"
      }
    },
    {
      "cell_type": "code",
      "source": [
        "# Calcular el número y porcentaje de nulos\n",
        "nulos_por_columna = df.isna().sum()\n",
        "porcentaje_nulos = (nulos_por_columna / len(df)) * 100\n",
        "\n",
        "# Filtrar solo las columnas con nulos\n",
        "columnas_con_nulos = nulos_por_columna[nulos_por_columna > 0]\n",
        "porcentaje_con_nulos = porcentaje_nulos[porcentaje_nulos > 0]\n",
        "\n",
        "# Mostrar el número de nulos por columna\n",
        "print(\"Columnas con número de nulos:\")\n",
        "print(columnas_con_nulos)\n",
        "\n",
        "# Mostrar el porcentaje de nulos por columna\n",
        "print(\"\\nColumnas con porcentaje de nulos:\")\n",
        "print(porcentaje_con_nulos)"
      ],
      "metadata": {
        "colab": {
          "base_uri": "https://localhost:8080/"
        },
        "id": "6-nJZ6CnoZrR",
        "outputId": "6d45b03d-56f6-4ac6-e7f4-5414df723f9f"
      },
      "execution_count": null,
      "outputs": [
        {
          "output_type": "stream",
          "name": "stdout",
          "text": [
            "Columnas con número de nulos:\n",
            "ISLA                92709\n",
            "KM                  46972\n",
            "NUDO_INFO           60207\n",
            "CARRETERA_CRUCE     95248\n",
            "CONDICION_NIEBLA    90136\n",
            "CONDICION_VIENTO    97653\n",
            "dtype: int64\n",
            "\n",
            "Columnas con porcentaje de nulos:\n",
            "ISLA                94.682177\n",
            "KM                  47.971731\n",
            "NUDO_INFO           61.488419\n",
            "CARRETERA_CRUCE     97.275215\n",
            "CONDICION_NIEBLA    92.054414\n",
            "CONDICION_VIENTO    99.731402\n",
            "dtype: float64\n"
          ]
        }
      ]
    },
    {
      "cell_type": "code",
      "source": [
        "cols = ['TITULARIDAD_VIA', 'NUDO_INFO', 'PRIORI_NORMA', 'PRIORI_AGENTE', 'PRIORI_SEMAFORO', 'PRIORI_VERT_STOP',\n",
        "        'PRIORI_VERT_CEDA', 'PRIORI_HORIZ_STOP', 'PRIORI_HORIZ_CEDA', 'PRIORI_MARCAS', 'PRIORI_PEA_NO_ELEV',\n",
        "        'PRIORI_PEA_ELEV', 'PRIORI_MARCA_CICLOS', 'PRIORI_CIRCUNSTANCIAL', 'PRIORI_OTRA','CONDICION_NIVEL_CIRCULA','CONDICION_FIRME',\n",
        "        'CONDICION_ILUMINACION','CONDICION_METEO','VISIB_RESTRINGIDA_POR','ACERA','TRAZADO_PLANTA'] \n",
        "for c in cols:\n",
        "    df[c] = df[c].replace({998: np.nan, 999: np.nan})\n",
        "\n",
        "# Verificamos que no haya más nulos\n",
        "porcentaje_con_nulos = porcentaje_nulos[porcentaje_nulos > 0]\n",
        "print(porcentaje_con_nulos)"
      ],
      "metadata": {
        "colab": {
          "base_uri": "https://localhost:8080/"
        },
        "id": "TnCgQMCGsvFt",
        "outputId": "7952661d-d9ee-4ddc-c06f-04c3e53a5e75"
      },
      "execution_count": null,
      "outputs": [
        {
          "output_type": "stream",
          "name": "stdout",
          "text": [
            "ISLA                94.682177\n",
            "KM                  47.971731\n",
            "NUDO_INFO           61.488419\n",
            "CARRETERA_CRUCE     97.275215\n",
            "CONDICION_NIEBLA    92.054414\n",
            "CONDICION_VIENTO    99.731402\n",
            "dtype: float64\n"
          ]
        }
      ]
    },
    {
      "cell_type": "code",
      "source": [
        "# Identificar columnas numéricas y categóricas con nulos\n",
        "columnas_numericas_con_nulos = df.select_dtypes(include=np.number).columns[df.select_dtypes(include=np.number).isnull().any()].tolist()\n",
        "columnas_categoricas_con_nulos = df.select_dtypes(include='object').columns[df.select_dtypes(include='object').isnull().any()].tolist()\n",
        "\n",
        "# Reemplazar nulos en columnas numéricas con 0\n",
        "for col in columnas_numericas_con_nulos:\n",
        "    df[col] = df[col].fillna(0)\n",
        "\n",
        "# Reemplazar nulos en columnas categóricas con 'missing'\n",
        "for col in columnas_categoricas_con_nulos:\n",
        "    df[col] = df[col].fillna('missing')\n",
        "\n",
        "# Verificar si aún quedan nulos\n",
        "nulos_despues = df.isnull().sum().sum()\n",
        "\n",
        "if nulos_despues == 0:\n",
        "    print(\"\\nTodos los valores nulos han sido reemplazados.\")\n",
        "else:\n",
        "    print(f\"\\nAún quedan {nulos_despues} valores nulos.\")\n",
        "    print(df.isnull().sum()[df.isnull().sum() > 0]) # Mostrar columnas con nulos restantes"
      ],
      "metadata": {
        "colab": {
          "base_uri": "https://localhost:8080/"
        },
        "id": "Jl7IMYx-tHsC",
        "outputId": "56dd69b5-4dd0-44df-a5be-7f01772de093"
      },
      "execution_count": null,
      "outputs": [
        {
          "output_type": "stream",
          "name": "stdout",
          "text": [
            "\n",
            "Todos los valores nulos han sido reemplazados.\n"
          ]
        }
      ]
    },
    {
      "cell_type": "code",
      "source": [
        "# Calcular el número y porcentaje de nulos\n",
        "nulos_por_columna = df.isna().sum()\n",
        "porcentaje_nulos = (nulos_por_columna / len(df)) * 100\n",
        "\n",
        "# Filtrar solo las columnas con nulos\n",
        "columnas_con_nulos = nulos_por_columna[nulos_por_columna > 0]\n",
        "porcentaje_con_nulos = porcentaje_nulos[porcentaje_nulos > 0]\n",
        "\n",
        "# Mostrar el número de nulos por columna\n",
        "print(\"Columnas con número de nulos:\")\n",
        "print(columnas_con_nulos)\n",
        "\n",
        "# Mostrar el porcentaje de nulos por columna\n",
        "print(\"\\nColumnas con porcentaje de nulos:\")\n",
        "print(porcentaje_con_nulos)"
      ],
      "metadata": {
        "colab": {
          "base_uri": "https://localhost:8080/"
        },
        "id": "B8t1U1BctgUm",
        "outputId": "4e15d617-0026-4963-9d75-f0e1eed69b9e"
      },
      "execution_count": null,
      "outputs": [
        {
          "output_type": "stream",
          "name": "stdout",
          "text": [
            "Columnas con número de nulos:\n",
            "Series([], dtype: int64)\n",
            "\n",
            "Columnas con porcentaje de nulos:\n",
            "Series([], dtype: float64)\n"
          ]
        }
      ]
    },
    {
      "cell_type": "code",
      "source": [
        "# Crear columna 'fecha' como primer día de cada mes\n",
        "df['fecha'] = pd.to_datetime(dict(year=df.ANYO, month=df.MES, day=1))\n",
        "\n",
        "# 2) Target: contar accidentes por provincia y mes\n",
        "monthly_counts = (\n",
        "    df\n",
        "    .groupby(['COD_PROVINCIA', 'fecha'])\n",
        "    .size()\n",
        "    .reset_index(name='NUM_ACCIDENTE_MES')\n",
        ")\n",
        "\n",
        "categorical_cols = [\n",
        "    'CONDICION_METEO',\n",
        "    'CONDICION_ILUMINACION',\n",
        "    'CONDICION_NIEBLA',\n",
        "    'CONDICION_VIENTO',\n",
        "    'VISIB_RESTRINGIDA_POR',\n",
        "    'PRIORI_NORMA',\n",
        "    'PRIORI_AGENTE',\n",
        "    'PRIORI_MARCAS',\n",
        "    'PRIORI_PEA_NO_ELEV',\n",
        "    'PRIORI_PEA_ELEV',\n",
        "    'PRIORI_MARCA_CICLOS',\n",
        "    'PRIORI_CIRCUNSTANCIAL',\n",
        "    'PRIORI_OTRA',\n",
        "    'CONDICION_NIVEL_CIRCULA',\n",
        "    'CONDICION_FIRME',\n",
        "    'ACERA',\n",
        "    'TRAZADO_PLANTA',\n",
        "    'TITULARIDAD_VIA',\n",
        "    'NUDO_INFO',\n",
        "    'PRIORI_SEMAFORO',\n",
        "    'PRIORI_VERT_STOP',\n",
        "    'PRIORI_VERT_CEDA',\n",
        "    'PRIORI_HORIZ_STOP',\n",
        "    'PRIORI_HORIZ_CEDA',\n",
        "    'TIPO_VIA',\n",
        "    'NUDO'\n",
        "]\n",
        "\n",
        "# One-hot encoding y añadir al DataFrame\n",
        "for col in categorical_cols:\n",
        "    dummies = pd.get_dummies(\n",
        "        df[col].fillna(-1),\n",
        "        prefix=col.lower(),\n",
        "        prefix_sep='_',\n",
        "        dtype=float\n",
        "    )\n",
        "    df = pd.concat([df, dummies], axis=1)\n",
        "\n",
        "# Obtener columnas dummy generadas\n",
        "dummy_cols = [\n",
        "    c for c in df.columns\n",
        "    if any(c.startswith(col.lower() + '_') for col in categorical_cols)\n",
        "]\n",
        "\n",
        "numeric_cols = [\n",
        "    'trafico_ligero_estimado',\n",
        "    'trafico_pesado_estimado',\n",
        "]\n",
        "\n",
        "agg_df = (\n",
        "    df\n",
        "    .groupby(['COD_PROVINCIA', 'fecha'])[dummy_cols + numeric_cols]\n",
        "    .mean()\n",
        "    .reset_index()\n",
        ")\n",
        "\n",
        "# Unir todo al dataframe final con el target\n",
        "df = monthly_counts.merge(agg_df, on=['COD_PROVINCIA', 'fecha'], how='left')\n",
        "\n",
        "df.info()"
      ],
      "metadata": {
        "colab": {
          "base_uri": "https://localhost:8080/"
        },
        "id": "nFjgRYieakmw",
        "outputId": "f43b9610-3edf-46c6-9600-5f49605d2982"
      },
      "execution_count": null,
      "outputs": [
        {
          "output_type": "stream",
          "name": "stdout",
          "text": [
            "<class 'pandas.core.frame.DataFrame'>\n",
            "RangeIndex: 624 entries, 0 to 623\n",
            "Columns: 127 entries, COD_PROVINCIA to trafico_pesado_estimado\n",
            "dtypes: datetime64[ns](1), float64(124), int64(2)\n",
            "memory usage: 619.3 KB\n"
          ]
        }
      ]
    },
    {
      "cell_type": "markdown",
      "source": [
        "52 provincias x 12 meses = 624 filas"
      ],
      "metadata": {
        "id": "ZDKa5xl8xC2H"
      }
    },
    {
      "cell_type": "code",
      "source": [
        "provincias = df['COD_PROVINCIA'].unique()\n",
        "fechas = pd.date_range(start=df['fecha'].min(), end=df['fecha'].max(), freq='MS')\n",
        "\n",
        "multi_index = pd.MultiIndex.from_product([provincias, fechas], names=['COD_PROVINCIA', 'fecha'])\n",
        "\n",
        "# Reindexamos el dataframe completo\n",
        "df_full = df.set_index(['COD_PROVINCIA', 'fecha']).reindex(multi_index).reset_index()\n",
        "\n",
        "# Rellenar valores faltantes\n",
        "df_full['NUM_ACCIDENTE_MES'] = df_full['NUM_ACCIDENTE_MES'].fillna(0)\n",
        "\n",
        "df_full.fillna(0, inplace=True)"
      ],
      "metadata": {
        "id": "AkZEjNur0ga0"
      },
      "execution_count": null,
      "outputs": []
    },
    {
      "cell_type": "code",
      "source": [
        "def split_data(df, target, test_size=0.3, val_size=0.5, random_state=42):\n",
        "    train, temp = train_test_split(df, test_size=test_size, random_state=random_state)\n",
        "    val, test  = train_test_split(temp, test_size=val_size, random_state=random_state)\n",
        "    return train, val, test\n",
        "\n",
        "train,val,test = split_data(df_full, 'NUM_ACCIDENTE_MES')\n",
        "print(f'Tamaño del conjunto de entrenamiento: {train.shape}')\n",
        "print(f'Tamaño del conjunto de validación: {val.shape}')\n",
        "print(f'Tamaño del conjunto de prueba: {test.shape}')"
      ],
      "metadata": {
        "colab": {
          "base_uri": "https://localhost:8080/"
        },
        "id": "OzfLfxnPxJac",
        "outputId": "185caa91-437f-445b-d7e8-d14ec64205c7"
      },
      "execution_count": null,
      "outputs": [
        {
          "output_type": "stream",
          "name": "stdout",
          "text": [
            "Tamaño del conjunto de entrenamiento: (436, 127)\n",
            "Tamaño del conjunto de validación: (94, 127)\n",
            "Tamaño del conjunto de prueba: (94, 127)\n"
          ]
        }
      ]
    },
    {
      "cell_type": "code",
      "source": [
        "X_train = train.drop(columns=['NUM_ACCIDENTE_MES'])\n",
        "y_train = train['NUM_ACCIDENTE_MES']\n",
        "X_val = val.drop(columns=['NUM_ACCIDENTE_MES'])\n",
        "y_val = val['NUM_ACCIDENTE_MES']\n",
        "print(X_train.shape)\n",
        "print(y_train.shape)\n",
        "print(X_val.shape)\n",
        "print(y_val.shape)"
      ],
      "metadata": {
        "colab": {
          "base_uri": "https://localhost:8080/"
        },
        "id": "xlOwWxSOyDQu",
        "outputId": "8dd24979-7b4f-462c-d6b7-e4baefe829eb"
      },
      "execution_count": null,
      "outputs": [
        {
          "output_type": "stream",
          "name": "stdout",
          "text": [
            "(436, 126)\n",
            "(436,)\n",
            "(94, 126)\n",
            "(94,)\n"
          ]
        }
      ]
    },
    {
      "cell_type": "code",
      "source": [
        "def create_lstm_sequences(X, y, lookback=6):\n",
        "    \"\"\"\n",
        "    Convierte un dataframe X y una serie y en secuencias para LSTM.\n",
        "\n",
        "    Args:\n",
        "        X: pd.DataFrame con características, debe contener columnas 'COD_PROVINCIA' y 'fecha'.\n",
        "        y: pd.Series o array con el target correspondiente.\n",
        "        lookback: cantidad de meses previos que la LSTM usará para predecir.\n",
        "\n",
        "    Retorna:\n",
        "        X_seq: np.array de forma (n_samples, lookback, n_features)\n",
        "        y_seq: np.array de forma (n_samples,)\n",
        "    \"\"\"\n",
        "    provincias = X['COD_PROVINCIA'].values\n",
        "    fechas = X['fecha'].values\n",
        "\n",
        "    # Excluir columnas no numéricas para el array\n",
        "    X_numeric = X.drop(columns=['COD_PROVINCIA', 'fecha']).to_numpy()\n",
        "\n",
        "    X_seq, y_seq = [], []\n",
        "\n",
        "    for prov in np.unique(provincias):\n",
        "        idx = np.where(provincias == prov)[0]\n",
        "\n",
        "        # Ordenar por fecha\n",
        "        orden_fecha = np.argsort(fechas[idx])\n",
        "        idx = idx[orden_fecha]\n",
        "\n",
        "        for i in range(lookback, len(idx)):\n",
        "            X_seq.append(X_numeric[idx[i - lookback:i], :])\n",
        "            y_seq.append(y.iloc[idx[i]])\n",
        "\n",
        "    X_seq = np.array(X_seq)\n",
        "    y_seq = np.array(y_seq)\n",
        "\n",
        "    return X_seq, y_seq\n",
        "\n",
        "\n",
        "# Fuera de la función, para llamar:\n",
        "X_seq, y_seq = create_lstm_sequences(\n",
        "    X=df_full.drop(columns=['NUM_ACCIDENTE_MES']),\n",
        "    y=df_full['NUM_ACCIDENTE_MES'],\n",
        "    lookback=6\n",
        ")\n",
        "\n",
        "print(X_seq.shape)\n",
        "print(y_seq.shape)"
      ],
      "metadata": {
        "colab": {
          "base_uri": "https://localhost:8080/"
        },
        "id": "qudabI7mzuu5",
        "outputId": "6a00bc41-264f-41ef-b3c4-95797ed7034f"
      },
      "execution_count": null,
      "outputs": [
        {
          "output_type": "stream",
          "name": "stdout",
          "text": [
            "(312, 6, 124)\n",
            "(312,)\n"
          ]
        }
      ]
    },
    {
      "cell_type": "markdown",
      "source": [
        "# Interactivo"
      ],
      "metadata": {
        "id": "KZHUHpu2wsO-"
      }
    },
    {
      "cell_type": "code",
      "source": [
        "# Modelo LSTM\n",
        "class LSTMRegressor(nn.Module):\n",
        "    def __init__(self, n_features, hidden_dim=50, n_layers=1):\n",
        "        super().__init__()\n",
        "        self.lstm = nn.LSTM(input_size=n_features,\n",
        "                            hidden_size=hidden_dim,\n",
        "                            num_layers=n_layers,\n",
        "                            batch_first=True)\n",
        "        self.fc = nn.Linear(hidden_dim, 1)\n",
        "\n",
        "    def forward(self, x):\n",
        "        # x: (batch, seq_len, n_features)\n",
        "        out, _ = self.lstm(x)\n",
        "        last = out[:, -1, :]\n",
        "        return self.fc(last)\n",
        "\n",
        "# Preparar y entrenar para una provincia\n",
        "def predict_province(df, prov_code, lookback=6, epochs=50, batch_size=16, lr=1e-3):\n",
        "    # Filtrar datos de la provincia\n",
        "    dfp = df[df['COD_PROVINCIA']==prov_code].sort_values('fecha').reset_index(drop=True)\n",
        "    if len(dfp) < lookback+1:\n",
        "        raise ValueError(f\"Pocos datos para lookback={lookback} en provincia {prov_code}\")\n",
        "\n",
        "    # Crear secuencias\n",
        "    X, y = dfp.drop(columns=['COD_PROVINCIA','fecha','NUM_ACCIDENTE_MES']).values, dfp['NUM_ACCIDENTE_MES'].values\n",
        "    X_seq, y_seq = [], []\n",
        "    for i in range(lookback, len(X)):\n",
        "        X_seq.append(X[i-lookback:i])\n",
        "        y_seq.append(y[i])\n",
        "    X_seq = np.stack(X_seq)\n",
        "    y_seq = np.array(y_seq)\n",
        "\n",
        "    # Escalar\n",
        "    n_samples, seq_len, n_feat = X_seq.shape\n",
        "    scaler_X = MinMaxScaler()\n",
        "    X_flat = X_seq.reshape(-1, n_feat)\n",
        "    X_scaled = scaler_X.fit_transform(X_flat).reshape(n_samples, seq_len, n_feat)\n",
        "    scaler_y = MinMaxScaler()\n",
        "    y_scaled = scaler_y.fit_transform(y_seq.reshape(-1,1)).flatten()\n",
        "\n",
        "    # Tensores y DataLoader\n",
        "    X_t = torch.tensor(X_scaled, dtype=torch.float32)\n",
        "    y_t = torch.tensor(y_scaled, dtype=torch.float32).unsqueeze(1)\n",
        "    loader = DataLoader(TensorDataset(X_t, y_t), batch_size=batch_size, shuffle=True)\n",
        "\n",
        "    # Modelo, loss y optimizador\n",
        "    model = LSTMRegressor(n_feat).to('cpu')\n",
        "    criterion = nn.MSELoss()\n",
        "    optimizer = torch.optim.Adam(model.parameters(), lr=lr)\n",
        "\n",
        "    # Entrenamiento\n",
        "    for epoch in range(1, epochs+1):\n",
        "        model.train()\n",
        "        total_loss = 0.0\n",
        "        for xb, yb in loader:\n",
        "            optimizer.zero_grad()\n",
        "            pred = model(xb)\n",
        "            loss = criterion(pred, yb)\n",
        "            loss.backward()\n",
        "            optimizer.step()\n",
        "            total_loss += loss.item() * xb.size(0)\n",
        "        if epoch % 10 == 0 or epoch == 1:\n",
        "            print(f\"Epoch {epoch}/{epochs} — Loss: {total_loss/len(loader.dataset):.4f}\")\n",
        "\n",
        "    # Predicción para el siguiente mes\n",
        "    model.eval()\n",
        "    with torch.no_grad():\n",
        "        last_window = X_t[-1].unsqueeze(0)    # forma (1, lookback, n_feat)\n",
        "        pred_scaled = model(last_window).cpu().numpy()\n",
        "    return scaler_y.inverse_transform(pred_scaled)[0,0]"
      ],
      "metadata": {
        "id": "ZMXxRo0w24Nv"
      },
      "execution_count": null,
      "outputs": []
    },
    {
      "cell_type": "code",
      "source": [
        "# Mapeo oficial INE de 1 a 52, y 51=Ceuta, 52=Melilla\n",
        "code_to_name = {\n",
        "    1: \"Álava\", 2: \"Albacete\", 3: \"Alicante\", 4: \"Almería\", 5: \"Ávila\",\n",
        "    6: \"Badajoz\", 7: \"Islas Baleares\", 8: \"Barcelona\", 9: \"Burgos\",\n",
        "    10: \"Cáceres\", 11: \"Cádiz\", 12: \"Castellón\", 13: \"Ciudad Real\",\n",
        "    14: \"Córdoba\", 15: \"A Coruña\", 16: \"Cuenca\", 17: \"Girona\",\n",
        "    18: \"Granada\", 19: \"Guadalajara\", 20: \"Guipúzcoa\", 21: \"Huelva\",\n",
        "    22: \"Huesca\", 23: \"Jaén\", 24: \"León\", 25: \"Lleida\", 26: \"La Rioja\",\n",
        "    27: \"Lugo\", 28: \"Madrid\", 29: \"Málaga\", 30: \"Murcia\", 31: \"Navarra\",\n",
        "    32: \"Ourense\", 33: \"Asturias\", 34: \"Palencia\", 35: \"Las Palmas\",\n",
        "    36: \"Pontevedra\", 37: \"Salamanca\", 38: \"Santa Cruz de Tenerife\",\n",
        "    39: \"Cantabria\", 40: \"Segovia\", 41: \"Sevilla\", 42: \"Soria\",\n",
        "    43: \"Tarragona\", 44: \"Teruel\", 45: \"Toledo\", 46: \"Valencia\",\n",
        "    47: \"Valladolid\", 48: \"Vizcaya\", 49: \"Zamora\", 50: \"Zaragoza\",\n",
        "    51: \"Ceuta\", 52: \"Melilla\"\n",
        "}\n",
        "# Invertimos para nombre → código, normalizando a minúsculas\n",
        "name_to_code = {name.casefold(): code for code, name in code_to_name.items()}"
      ],
      "metadata": {
        "id": "VDJGCMrFzzNc"
      },
      "execution_count": null,
      "outputs": []
    },
    {
      "cell_type": "code",
      "source": [
        "def interactive_predict_by_name(df, lookback=6):\n",
        "    print(\"### Predicción de accidentes mensuales por provincia ###\")\n",
        "    print(\"Teclea el nombre exacto de la provincia (e.g. 'A Coruña'), o 'salir' para terminar.\\n\")\n",
        "    while True:\n",
        "        entrada = input(\"Provincia: \").strip()\n",
        "        if entrada.casefold() in (\"salir\", \"exit\", \"quit\"):\n",
        "            print(\"Saliendo.\"); break\n",
        "\n",
        "        key = entrada.casefold()\n",
        "        if key not in name_to_code:\n",
        "            print(\"→ Provincia no encontrada. Revisa la ortografía.\\n\")\n",
        "            continue\n",
        "        code = name_to_code[key]\n",
        "\n",
        "        # Filtrar y ordenar\n",
        "        dfp = df[df['COD_PROVINCIA']==code].sort_values('fecha').reset_index(drop=True)\n",
        "        if len(dfp) < lookback+1:\n",
        "            print(f\"→ Pocos datos para lookback={lookback} en {entrada}\\n\"); continue\n",
        "\n",
        "        # Serie histórica\n",
        "        fechas_hist = dfp['fecha']\n",
        "        y_hist = dfp['NUM_ACCIDENTE_MES'].values\n",
        "\n",
        "        # Predicción\n",
        "        pred = predict_province(df, code, lookback=lookback)\n",
        "\n",
        "        # Fecha siguiente\n",
        "        next_month = fechas_hist.iloc[-1] + pd.offsets.MonthBegin(1)\n",
        "\n",
        "        # Gráfico\n",
        "        plt.figure(figsize=(12,6))\n",
        "        plt.plot(fechas_hist, y_hist, label='Datos Históricos', marker='o', color='C0')\n",
        "        plt.scatter([next_month], [pred], color='C1', label='Predicción Próximo Mes', s=100)\n",
        "        plt.plot(\n",
        "            [fechas_hist.iloc[-1], next_month],\n",
        "            [y_hist[-1], pred],\n",
        "            linestyle='--',\n",
        "            color='C1'\n",
        "        )\n",
        "        plt.title(f'{entrada}: Histórico vs Predicción')\n",
        "        plt.xlabel('Fecha')\n",
        "        plt.ylabel('Número de Accidentes')\n",
        "        plt.legend()\n",
        "        plt.grid(True)\n",
        "        plt.show(block=False)\n",
        "        plt.pause(0.1)\n",
        "        plt.close()\n",
        "\n",
        "        print(f\"→ Próximo mes ({next_month.date()}) en {entrada}: {pred:.0f} accidentes\\n\")\n",
        "\n",
        "# Ejecutar usando df_monthly, NO df_full ---\n",
        "interactive_predict_by_name(df_full, lookback=6)"
      ],
      "metadata": {
        "colab": {
          "base_uri": "https://localhost:8080/",
          "height": 1000
        },
        "id": "R0lWydrbxHvb",
        "outputId": "8be7c7fd-c273-4b0a-e98a-8b518168f996"
      },
      "execution_count": null,
      "outputs": [
        {
          "output_type": "stream",
          "name": "stdout",
          "text": [
            "### Predicción de accidentes mensuales por provincia ###\n",
            "Teclea el nombre exacto de la provincia (e.g. 'A Coruña'), o 'salir' para terminar.\n",
            "\n",
            "Provincia: A Coruña\n",
            "Epoch 1/50 — Loss: 0.3460\n",
            "Epoch 10/50 — Loss: 0.1225\n",
            "Epoch 20/50 — Loss: 0.0626\n",
            "Epoch 30/50 — Loss: 0.0284\n",
            "Epoch 40/50 — Loss: 0.0110\n",
            "Epoch 50/50 — Loss: 0.0034\n"
          ]
        },
        {
          "output_type": "display_data",
          "data": {
            "text/plain": [
              "<Figure size 1200x600 with 1 Axes>"
            ],
            "image/png": "[encoded data removed]"
          },
          "metadata": {}
        },
        {
          "output_type": "stream",
          "name": "stdout",
          "text": [
            "→ Próximo mes (2023-01-01) en A Coruña: 131 accidentes\n",
            "\n",
            "Provincia: Madrid\n",
            "Epoch 1/50 — Loss: 0.5742\n",
            "Epoch 10/50 — Loss: 0.1246\n",
            "Epoch 20/50 — Loss: 0.0616\n",
            "Epoch 30/50 — Loss: 0.0430\n",
            "Epoch 40/50 — Loss: 0.0240\n",
            "Epoch 50/50 — Loss: 0.0126\n"
          ]
        },
        {
          "output_type": "display_data",
          "data": {
            "text/plain": [
              "<Figure size 1200x600 with 1 Axes>"
            ],
            "image/png": "[encoded data removed]"
          },
          "metadata": {}
        },
        {
          "output_type": "stream",
          "name": "stdout",
          "text": [
            "→ Próximo mes (2023-01-01) en Madrid: 1324 accidentes\n",
            "\n",
            "Provincia: salir\n",
            "Saliendo.\n"
          ]
        }
      ]
    }
  ]
}
